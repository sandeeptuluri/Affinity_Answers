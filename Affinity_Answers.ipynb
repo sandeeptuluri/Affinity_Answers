{
  "nbformat": 4,
  "nbformat_minor": 0,
  "metadata": {
    "colab": {
      "name": "Affinity_Answers.ipynb",
      "provenance": [],
      "authorship_tag": "ABX9TyNSAaqTahMTrrl4/wtYKs1N",
      "include_colab_link": true
    },
    "kernelspec": {
      "name": "python3",
      "display_name": "Python 3"
    },
    "language_info": {
      "name": "python"
    }
  },
  "cells": [
    {
      "cell_type": "markdown",
      "metadata": {
        "id": "view-in-github",
        "colab_type": "text"
      },
      "source": [
        "<a href=\"https://colab.research.google.com/github/sandeeptuluri/Affinity_Answers/blob/main/Affinity_Answers.ipynb\" target=\"_parent\"><img src=\"https://colab.research.google.com/assets/colab-badge.svg\" alt=\"Open In Colab\"/></a>"
      ]
    },
    {
      "cell_type": "markdown",
      "source": [
        "# The task is to check the degree of profanity in the given text file."
      ],
      "metadata": {
        "id": "3r_EaC44HHb-"
      }
    },
    {
      "cell_type": "markdown",
      "source": [
        "Here I am considering a csv file which is having tweets in one column"
      ],
      "metadata": {
        "id": "Q-AEj_bYHHkN"
      }
    },
    {
      "cell_type": "markdown",
      "source": [
        "Importing the required libraries"
      ],
      "metadata": {
        "id": "Lg1557nwHHuZ"
      }
    },
    {
      "cell_type": "code",
      "source": [
        "import pandas as pd\n",
        "import numpy as np"
      ],
      "metadata": {
        "id": "pFd5DNcAHSoY"
      },
      "execution_count": 15,
      "outputs": []
    },
    {
      "cell_type": "markdown",
      "source": [
        "Here, I have found a beautiful python library called profanity_check which is used to check the profanity of the given text. so, i am using to predict the profanity of the tweets."
      ],
      "metadata": {
        "id": "nQzBPeWcHH7i"
      }
    },
    {
      "cell_type": "markdown",
      "source": [
        "This library is trained on 200k profane words and it is giving the perfect results."
      ],
      "metadata": {
        "id": "dZeR-hoaMzmv"
      }
    },
    {
      "cell_type": "markdown",
      "source": [
        "Installing and importing the profanity_check library"
      ],
      "metadata": {
        "id": "m-80xFaNJ7Eb"
      }
    },
    {
      "cell_type": "code",
      "source": [
        " #pip install alt-profanity-check"
      ],
      "metadata": {
        "id": "wSWYGNIEIDAN"
      },
      "execution_count": 16,
      "outputs": []
    },
    {
      "cell_type": "code",
      "source": [
        "#pip install sklearn --upgrade"
      ],
      "metadata": {
        "id": "8jS41E_WJXrz"
      },
      "execution_count": 17,
      "outputs": []
    },
    {
      "cell_type": "code",
      "source": [
        "#from profanity_check import predict, predict_prob"
      ],
      "metadata": {
        "id": "24nyG33lIHXl"
      },
      "execution_count": 18,
      "outputs": []
    },
    {
      "cell_type": "markdown",
      "source": [
        "Reading the CSV file."
      ],
      "metadata": {
        "id": "9iNx-EjQKIaV"
      }
    },
    {
      "cell_type": "code",
      "source": [
        "#df = pd.read_csv(\"tweets.csv\")"
      ],
      "metadata": {
        "id": "jw-wZGQqIMsS"
      },
      "execution_count": 19,
      "outputs": []
    },
    {
      "cell_type": "markdown",
      "source": [
        "I am assuming, there is two columns in the dataset, they are s.no and the tweets column"
      ],
      "metadata": {
        "id": "TdNVBDBHKcq7"
      }
    },
    {
      "cell_type": "markdown",
      "source": [
        ""
      ],
      "metadata": {
        "id": "9MlrLM9jLPGR"
      }
    },
    {
      "cell_type": "markdown",
      "source": [
        "so writing a code will create a two columns which is profanity check and probability of a sentence to be profane."
      ],
      "metadata": {
        "id": "-QqW9c0oLOLk"
      }
    },
    {
      "cell_type": "code",
      "source": [
        "# df[\"profanity\"] = df[\"tweets\"].apply(lambda x : predict([x]))"
      ],
      "metadata": {
        "id": "XAQOhNChKQ3M"
      },
      "execution_count": 20,
      "outputs": []
    },
    {
      "cell_type": "markdown",
      "source": [
        "The above code gives the results in \"1\", \"0\". if it is \"1\" then the tweets is profane, else the tweet is not profane."
      ],
      "metadata": {
        "id": "AV0g7tGmMRkZ"
      }
    },
    {
      "cell_type": "code",
      "source": [
        "# df[\"profanity_probability\"] = df[\"tweets\"].apply(lambda X : predict_prob([x]))"
      ],
      "metadata": {
        "id": "8vIX59U-Mipp"
      },
      "execution_count": 21,
      "outputs": []
    },
    {
      "cell_type": "markdown",
      "source": [
        "The above code gives the probability of profanity."
      ],
      "metadata": {
        "id": "Eew83ORaNgCV"
      }
    },
    {
      "cell_type": "markdown",
      "source": [
        "Thank you"
      ],
      "metadata": {
        "id": "NgmM1tcoOzQ1"
      }
    },
    {
      "cell_type": "code",
      "source": [
        ""
      ],
      "metadata": {
        "id": "xYbzZ7VGNUXS"
      },
      "execution_count": 21,
      "outputs": []
    }
  ]
}